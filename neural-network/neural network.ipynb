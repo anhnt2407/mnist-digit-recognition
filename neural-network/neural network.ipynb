{
 "cells": [
  {
   "cell_type": "code",
   "execution_count": 1,
   "metadata": {
    "collapsed": true
   },
   "outputs": [],
   "source": [
    "import numpy\n",
    "import scipy.special\n",
    "import scipy.misc\n",
    "import scipy.ndimage\n",
    "import matplotlib.pyplot\n",
    "import json, codecs\n",
    "\n",
    "%matplotlib inline"
   ]
  },
  {
   "cell_type": "code",
   "execution_count": 2,
   "metadata": {
    "collapsed": true
   },
   "outputs": [],
   "source": [
    "class neural_network:\n",
    "        def __init__(self, inputNeuronsCount, hiddenNeuronsCount, outputNeuronsCount, learningRate) :\n",
    "            self.inputNeuronsCount  = inputNeuronsCount\n",
    "            self.hiddenNeuronsCount = hiddenNeuronsCount\n",
    "            self.outputNeuronsCount = outputNeuronsCount\n",
    "            self.learningRate       = learningRate\n",
    "           \n",
    "            self.hiddenLayerWeights = numpy.random.normal(\n",
    "                0.0, \n",
    "                pow(hiddenNeuronsCount, -0.5), \n",
    "                (hiddenNeuronsCount, inputNeuronsCount)\n",
    "            )\n",
    "            \n",
    "            self.outputLayerWeights = numpy.random.normal(\n",
    "                0.0, \n",
    "                pow(outputNeuronsCount, -0.5), \n",
    "                (outputNeuronsCount, hiddenNeuronsCount)\n",
    "            )\n",
    "            \n",
    "            self.activate = lambda x: scipy.special.expit(x)\n",
    "            self.activationDerivative = lambda outputMatrix: outputMatrix * (1.0 - outputMatrix) \n",
    "            \n",
    "            pass\n",
    "\n",
    "        def fit(self, inputs, targetResults) :\n",
    "     \n",
    "            inputsSignalsAsMatrix   = numpy.array(inputs, ndmin = 2).T\n",
    "            targetResultsAsMatrix   = numpy.array(targetResults, ndmin = 2).T\n",
    "            \n",
    "            hiddenLayerInSignals    = numpy.dot(self.hiddenLayerWeights, inputsSignalsAsMatrix)\n",
    "            hiddenLayerOutSignals   = self.activate(hiddenLayerInSignals)\n",
    "            \n",
    "            outputLayerInSignals    = numpy.dot(self.outputLayerWeights, hiddenLayerOutSignals)\n",
    "            outputLayerOutSignals   = self.activate(outputLayerInSignals)\n",
    "            \n",
    "            outputLayerErrors       = targetResultsAsMatrix - outputLayerOutSignals\n",
    "            hiddenLayerErrors       = numpy.dot(self.outputLayerWeights.T, outputLayerErrors)\n",
    "            \n",
    "            self.outputLayerWeights += self.learningRate * numpy.dot(\n",
    "                (outputLayerErrors * self.activationDerivative(outputLayerOutSignals)),\n",
    "                (numpy.transpose(hiddenLayerOutSignals)))\n",
    "            \n",
    "            self.hiddenLayerWeights += self.learningRate * numpy.dot(\n",
    "                (hiddenLayerErrors * self.activationDerivative(hiddenLayerOutSignals)),\n",
    "                (numpy.transpose(inputsSignalsAsMatrix)))    \n",
    "            \n",
    "            pass\n",
    "            \n",
    "        def query(self, inputs) :\n",
    "            inputsSignalsAsMatrix   =  numpy.array(inputs, ndmin = 2).T\n",
    "            \n",
    "\n",
    "            hiddenLayerInSignals    = numpy.dot(self.hiddenLayerWeights, inputsSignalsAsMatrix)\n",
    "            hiddenLayerOutSignals   = self.activate(hiddenLayerInSignals)\n",
    "            \n",
    "            outputLayerInSignals    = numpy.dot(self.outputLayerWeights, hiddenLayerOutSignals)\n",
    "            outputLayerOutSignals   = self.activate(outputLayerInSignals)\n",
    "            \n",
    "            return outputLayerOutSignals\n",
    "        \n",
    "        def exportWeights(self):\n",
    "            hiddenLayerWeightsAsList = self.hiddenLayerWeights.tolist()\n",
    "            outputLayerWeightsAsList = self.outputLayerWeights.tolist()\n",
    "            \n",
    "            json.dump(hiddenLayerWeightsAsList, codecs.open('hiddenLayerWeights.json', 'w', encoding='utf-8'), separators=(',', ':'), sort_keys=True, indent=4)\n",
    "            json.dump(outputLayerWeightsAsList, codecs.open('outputLayerWeights.json', 'w', encoding='utf-8'), separators=(',', ':'), sort_keys=True, indent=4)"
   ]
  },
  {
   "cell_type": "code",
   "execution_count": 3,
   "metadata": {
    "collapsed": true
   },
   "outputs": [],
   "source": [
    "outputNeuronsCount = 10\n",
    "possibleOutputLabels = 10\n",
    "\n",
    "inputNeuronsCount = 28 * 28\n",
    "hiddenNeuronsCount = 200\n",
    "\n",
    "learningRate = 0.01\n",
    "    \n",
    "neuralNetwork = neural_network(inputNeuronsCount, hiddenNeuronsCount, outputNeuronsCount, learningRate)"
   ]
  },
  {
   "cell_type": "code",
   "execution_count": 4,
   "metadata": {
    "collapsed": true
   },
   "outputs": [],
   "source": [
    "def generateImageRotatedBy10Degrees(imageStream):\n",
    "    imagePlus10 = scipy.ndimage.interpolation.rotate(imageStream.reshape(28,28), 10, cval = 0.01, order = 1, reshape = False)\n",
    "    imageMinus10 = scipy.ndimage.interpolation.rotate(imageStream.reshape(28,28), -10, cval = 0.01, order = 1, reshape = False)\n",
    "    return imagePlus10.reshape(784), imageMinus10.reshape(784)"
   ]
  },
  {
   "cell_type": "code",
   "execution_count": 5,
   "metadata": {},
   "outputs": [
    {
     "name": "stdout",
     "output_type": "stream",
     "text": [
      "training....\n",
      "Epoch 0 has finished...\n",
      "Epoch 1 has finished...\n",
      "Epoch 2 has finished...\n",
      "Epoch 3 has finished...\n",
      "Epoch 4 has finished...\n"
     ]
    }
   ],
   "source": [
    "trainingDatasetStream = open(\"datasets/mnist_train.csv\", 'r')\n",
    "trainingDataset = trainingDatasetStream.readlines()\n",
    "trainingDatasetStream.close()\n",
    "epochs = 5\n",
    "                    \n",
    "print('Training....')\n",
    "\n",
    "for epoch in range(epochs):\n",
    "    for trainingRecord in trainingDataset:\n",
    "        trainingRecordObject = trainingRecord.split(',')\n",
    "\n",
    "        neuralNetworkInput = (numpy.asfarray(trainingRecordObject[1:]) / 255.0 * 0.99) + 0.01\n",
    "        rotatedInputs = generateImageRotatedBy10Degrees(neuralNetworkInput)\n",
    "        \n",
    "        desiredNeuralNetworkOutput = numpy.zeros(outputNeuronsCount) + 0.01\n",
    "        desiredNeuralNetworkOutput[int(trainingRecordObject[0])] = 0.99\n",
    "        \n",
    "        neuralNetwork.fit(neuralNetworkInput, desiredNeuralNetworkOutput)\n",
    "        neuralNetwork.fit(rotatedInputs[0], desiredNeuralNetworkOutput)\n",
    "        neuralNetwork.fit(rotatedInputs[1], desiredNeuralNetworkOutput)\n",
    "        pass\n",
    "    print('Epoch ' + str(epoch) + ' has finished...')\n",
    "    pass"
   ]
  },
  {
   "cell_type": "code",
   "execution_count": 13,
   "metadata": {
    "collapsed": true
   },
   "outputs": [],
   "source": [
    "neuralNetwork.exportWeights()"
   ]
  },
  {
   "cell_type": "code",
   "execution_count": 6,
   "metadata": {
    "collapsed": true
   },
   "outputs": [],
   "source": [
    "testDatasetStream = open(\"datasets/mnist_test.csv\", 'r')\n",
    "testDataset = testDatasetStream.readlines()\n",
    "testDatasetStream.close()"
   ]
  },
  {
   "cell_type": "code",
   "execution_count": 7,
   "metadata": {},
   "outputs": [
    {
     "name": "stdout",
     "output_type": "stream",
     "text": [
      "accuracy:  0.9733\n"
     ]
    }
   ],
   "source": [
    "correctPredictionsCount = 0\n",
    "predictionsCount = 0\n",
    "\n",
    "for testRecord in testDataset:\n",
    "    testRecordObject = testRecord.split(',')\n",
    "\n",
    "    neuralNetworkInput = (numpy.asfarray(testRecordObject[1:]) / 255.0 * 0.99) + 0.01\n",
    "    neuralNetworkOutput = neuralNetwork.query(neuralNetworkInput)\n",
    "\n",
    "    testRecordLabel = int(testRecordObject[0])\n",
    "    neuralNetworkPrediction = numpy.argmax(neuralNetworkOutput)\n",
    "\n",
    "    if(neuralNetworkPrediction == testRecordLabel):\n",
    "        correctPredictionsCount+=1\n",
    "        \n",
    "    predictionsCount+=1\n",
    "    pass\n",
    "\n",
    "print('accuracy: ', correctPredictionsCount / predictionsCount)"
   ]
  },
  {
   "cell_type": "code",
   "execution_count": null,
   "metadata": {
    "collapsed": true
   },
   "outputs": [],
   "source": [
    "def predictForImage(filename):\n",
    "    imageFile = scipy.misc.imread(filename, flatten=True)\n",
    "    \n",
    "    neuralNetworkInput  = 255.0 - imageFile.reshape(784)\n",
    "    neuralNetworkInput = (neuralNetworkInput / 255.0 * 0.99) + 0.01\n",
    "\n",
    "\n",
    "    matplotlib.pyplot.imshow(imageFile)\n",
    "    print('prediction result: ', numpy.argmax(neuralNetwork.query(neuralNetworkInput)))"
   ]
  },
  {
   "cell_type": "code",
   "execution_count": 9,
   "metadata": {},
   "outputs": [
    {
     "name": "stdout",
     "output_type": "stream",
     "text": [
      "prediction result:  5\n"
     ]
    },
    {
     "data": {
      "image/png": "[encoded data removed]",
      "text/plain": [
       "<matplotlib.figure.Figure at 0x260b62eca58>"
      ]
     },
     "metadata": {},
     "output_type": "display_data"
    }
   ],
   "source": []
  },
  {
   "cell_type": "code",
   "execution_count": 10,
   "metadata": {},
   "outputs": [
    {
     "name": "stdout",
     "output_type": "stream",
     "text": [
      "prediction result:  2\n"
     ]
    },
    {
     "data": {
      "image/png": "[encoded data removed]",
      "text/plain": [
       "<matplotlib.figure.Figure at 0x260bf713780>"
      ]
     },
     "metadata": {},
     "output_type": "display_data"
    }
   ],
   "source": []
  },
  {
   "cell_type": "code",
   "execution_count": 11,
   "metadata": {},
   "outputs": [
    {
     "name": "stdout",
     "output_type": "stream",
     "text": [
      "prediction result:  1\n"
     ]
    },
    {
     "data": {
      "image/png": "[encoded data removed]",
      "text/plain": [
       "<matplotlib.figure.Figure at 0x260be6f2208>"
      ]
     },
     "metadata": {},
     "output_type": "display_data"
    }
   ],
   "source": []
  },
  {
   "cell_type": "code",
   "execution_count": 12,
   "metadata": {},
   "outputs": [
    {
     "name": "stdout",
     "output_type": "stream",
     "text": [
      "prediction result:  3\n"
     ]
    },
    {
     "data": {
      "image/png": "[encoded data removed]",
      "text/plain": [
       "<matplotlib.figure.Figure at 0x260bf794f28>"
      ]
     },
     "metadata": {},
     "output_type": "display_data"
    }
   ],
   "source": []
  },
  {
   "cell_type": "code",
   "execution_count": null,
   "metadata": {
    "collapsed": true
   },
   "outputs": [],
   "source": []
  },
  {
   "cell_type": "code",
   "execution_count": null,
   "metadata": {
    "collapsed": true
   },
   "outputs": [],
   "source": []
  },
  {
   "cell_type": "code",
   "execution_count": null,
   "metadata": {
    "collapsed": true
   },
   "outputs": [],
   "source": []
  }
 ],
 "metadata": {
  "kernelspec": {
   "display_name": "Python 3",
   "language": "python",
   "name": "python3"
  },
  "language_info": {
   "codemirror_mode": {
    "name": "ipython",
    "version": 3
   },
   "file_extension": ".py",
   "mimetype": "text/x-python",
   "name": "python",
   "nbconvert_exporter": "python",
   "pygments_lexer": "ipython3",
   "version": "3.6.1"
  }
 },
 "nbformat": 4,
 "nbformat_minor": 2
}
